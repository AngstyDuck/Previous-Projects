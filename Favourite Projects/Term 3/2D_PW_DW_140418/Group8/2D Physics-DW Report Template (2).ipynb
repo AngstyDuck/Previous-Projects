{
 "cells": [
  {
   "cell_type": "markdown",
   "metadata": {},
   "source": [
    "# Report for 2D Project Physical World and Digital World\n",
    "\n",
    "Cohort: # enter your cohort\n",
    "\n",
    "Team No.: # Enter your team number\n",
    "\n",
    "Members:\n",
    "* Student 1 Name (Student ID)\n",
    "* Student 2 Name (Student ID)\n"
   ]
  },
  {
   "cell_type": "markdown",
   "metadata": {},
   "source": [
    "# Introduction\n",
    "\n",
    "Write your introduction here. Describe the problem you want to solve and a brief of your approach and summary of your result.\n"
   ]
  },
  {
   "cell_type": "markdown",
   "metadata": {},
   "source": [
    "# Description of Data from Experiment"
   ]
  },
  {
   "cell_type": "code",
   "execution_count": 3,
   "metadata": {},
   "outputs": [],
   "source": [
    "import numpy as np\n",
    "import matplotlib.pyplot as plt\n",
    "from numpy.linalg import inv"
   ]
  },
  {
   "cell_type": "markdown",
   "metadata": {},
   "source": [
    "## Data Collection\n",
    "\n",
    "Describe how you collect your data and the reasoning behind such approach.\n",
    "\n"
   ]
  },
  {
   "cell_type": "markdown",
   "metadata": {},
   "source": [
    "## Data Preparation\n",
    "\n",
    "Describe how you prepare your data. Include any codes you have here."
   ]
  },
  {
   "cell_type": "code",
   "execution_count": 4,
   "metadata": {},
   "outputs": [],
   "source": [
    "def text_to_nested_list(file_address_input):\n",
    "    txt_file_open = open(file_address_input, 'r')\n",
    "    file_readlines = txt_file_open.readlines()\n",
    "\n",
    "    data_frame_collective = []\n",
    "    for i in file_readlines:\n",
    "        #print(i)\n",
    "        i_list = i.split()\n",
    "        frame_name = int(i_list[0])\n",
    "        i_list = i_list[1:]\n",
    "        time_list = []\n",
    "        temp_list = []\n",
    "        for j in range(1,int(len(i_list)/2)):\n",
    "            time_list.append(round(float(i_list[j*2-2]),0))\n",
    "            temp_list.append(float(i_list[j*2-1]))\n",
    "        #print(\"time_list: {0}, temp_list: {1} \".format(time_list, temp_list))\n",
    "        data_frame_collective.append([frame_name,time_list,temp_list])\n",
    "    return data_frame_collective\n",
    "\n",
    "def function_for_jerry(address_input):\n",
    "    address = address_input\n",
    "    data_frame_collective = text_to_nested_list(address)\n",
    "\n",
    "    output_matrix = np.empty([0,16])\n",
    "\n",
    "    for i in data_frame_collective:\n",
    "        data_row = i[2][:15]\n",
    "        data_row.insert(0,i[0])\n",
    "        data_row = np.array([data_row])\n",
    "        data_row.reshape(-1,1)\n",
    "        output_matrix = np.vstack((output_matrix, data_row[:1]))\n",
    "\n",
    "    return output_matrix\n",
    "\n",
    "address = r'C:\\Users\\Apple\\Desktop\\data_real_3.txt'"
   ]
  },
  {
   "cell_type": "markdown",
   "metadata": {},
   "source": [
    "## Data Format\n",
    "\n",
    "Describe your data and its features. Include any codes or visualization of data."
   ]
  },
  {
   "cell_type": "code",
   "execution_count": 7,
   "metadata": {},
   "outputs": [
    {
     "name": "stdout",
     "output_type": "stream",
     "text": [
      "140\n",
      "[[10]\n",
      " [15]\n",
      " [20]\n",
      " [25]\n",
      " [30]\n",
      " [35]\n",
      " [40]\n",
      " [45]\n",
      " [50]\n",
      " [55]\n",
      " [60]]\n",
      "[[ 1.         13.26415385]\n",
      " [ 1.         16.8525    ]\n",
      " [ 1.         20.51892308]\n",
      " [ 1.         24.6248    ]\n",
      " [ 1.         28.03823077]\n",
      " [ 1.         31.83325   ]\n",
      " [ 1.         35.67675   ]\n",
      " [ 1.         39.61441667]\n",
      " [ 1.         44.26016667]\n",
      " [ 1.         48.1925    ]\n",
      " [ 1.         51.69775   ]]\n"
     ]
    }
   ],
   "source": [
    "# Take the temperature of the sensor at 25 second and its corrsponding water bath temperature.\n",
    "# Combine the data into a n*2 matrix\n",
    "mat = function_for_jerry(address)\n",
    "mat_0 = list(mat[:, 0, np.newaxis])\n",
    "mat_1 = list(mat[:, -1, np.newaxis])\n",
    "raw_matrix = list(np.concatenate((mat_0, mat_1), axis = 1))\n",
    "print(len(raw_matrix))\n",
    "\n",
    "#raw_matrix has 140 instances, thus 140 rows, and 10 different water bath temperature. Find the average temperature at 25 second\n",
    "matrix = []\n",
    "vec_b = []\n",
    "temp = 10\n",
    "while temp <= 60:\n",
    "    average = 0\n",
    "    count = 0\n",
    "    for i in raw_matrix:\n",
    "        if i[0] == temp:\n",
    "            average += i[-1]\n",
    "            count += 1\n",
    "    if count != 0:    \n",
    "        average /= count\n",
    "        matrix.append([1, average])\n",
    "        vec_b.append([temp])\n",
    "    temp += 5\n",
    "\n",
    "for i in range(len(matrix)):\n",
    "    matrix[i] = list(matrix[i])\n",
    "\n",
    "matrix = np.array(matrix)\n",
    "vec_b = np.array(vec_b)\n",
    "print(vec_b)\n",
    "print(matrix)"
   ]
  },
  {
   "cell_type": "markdown",
   "metadata": {},
   "source": [
    "# Training Model\n",
    "\n",
    "Describe how you train your model. Include any code and output"
   ]
  },
  {
   "cell_type": "code",
   "execution_count": 8,
   "metadata": {},
   "outputs": [
    {
     "name": "stdout",
     "output_type": "stream",
     "text": [
      "[[-6.55107321]\n",
      " [ 1.28904693]]\n"
     ]
    }
   ],
   "source": [
    "def find_solution(matrix, array_d):\n",
    "    matrix_inv = inv(np.matmul(matrix.transpose(), matrix))\n",
    "    return np.matmul(np.matmul(matrix_inv, matrix.transpose()), array_d)\n",
    "\n",
    "# Find the solution to the linear regression\n",
    "solution = find_solution(matrix, vec_b)\n",
    "print(solution)"
   ]
  },
  {
   "cell_type": "markdown",
   "metadata": {},
   "source": [
    "# Verification and Accuracy\n",
    "\n",
    "Describe how you check the accuracy of your model and its result. State any analysis you have and the steps you have taken to improve its accuracy."
   ]
  },
  {
   "cell_type": "code",
   "execution_count": 10,
   "metadata": {},
   "outputs": [
    {
     "data": {
      "text/plain": [
       "[0.5470435726926208,\n",
       " 0.17259016308449837,\n",
       " 0.10121842859276597,\n",
       " 0.19144961062377774,\n",
       " 0.4084779383863051,\n",
       " 0.5165200528459195,\n",
       " 0.5620681806051095,\n",
       " 0.4862310558680534,\n",
       " 0.5023587152943563,\n",
       " 0.5713209230758594,\n",
       " 0.08975267152705158]"
      ]
     },
     "execution_count": 10,
     "metadata": {},
     "output_type": "execute_result"
    }
   ],
   "source": [
    "def find_error(actual, predicted):\n",
    "    act_len = len(actual)\n",
    "    pre_len = len(predicted)\n",
    "    if not act_len == pre_len:\n",
    "        return \"inconsistent array length\"\n",
    "    \n",
    "    err = []\n",
    "    for i in range(act_len):\n",
    "        err.append(abs(actual[i][0] - predicted[i][0]))\n",
    "    return err\n",
    "\n",
    "predicted = np.matmul(matrix, solution)\n",
    "find_error(vec_b, predicted)"
   ]
  },
  {
   "cell_type": "markdown",
   "metadata": {},
   "source": [
    "# Testing Using Instructor's Data"
   ]
  },
  {
   "cell_type": "markdown",
   "metadata": {},
   "source": [
    "Instruction:\n",
    "\n",
    "* Store your trained model into a pickle object which can be loaded. \n",
    "* Read an excel file with the following format:\n",
    "```\n",
    "time (s)\treading\n",
    "0.00\t    25.812\n",
    "0.90\t    28.562\n",
    "1.79\t    31.875\n",
    "2.68\t    35.062\n",
    "3.55\t    37.937\n",
    "4.43\t    40.687\n",
    "5.30\t    43.25\n",
    "```\n",
    "where the first column indicates the time in seconds and the second column indicates the sensor reading in Celsius. \n",
    "* The number of rows in the instructors' data can be of any number. If your code has a minimum number of rows, your code must be able to handle and exit safely when the data provided is less than the required minimum.\n",
    "* Write a code to prepare the data for prediction.\n",
    "* Write a code to predict the final temperature.\n",
    "\n"
   ]
  },
  {
   "cell_type": "code",
   "execution_count": 6,
   "metadata": {},
   "outputs": [
    {
     "ename": "FileNotFoundError",
     "evalue": "[Errno 2] No such file or directory: ''",
     "output_type": "error",
     "traceback": [
      "\u001b[1;31m---------------------------------------------------------------------------\u001b[0m",
      "\u001b[1;31mFileNotFoundError\u001b[0m                         Traceback (most recent call last)",
      "\u001b[1;32m<ipython-input-6-2ae0b9b92288>\u001b[0m in \u001b[0;36m<module>\u001b[1;34m()\u001b[0m\n\u001b[0;32m      2\u001b[0m \u001b[1;32mimport\u001b[0m \u001b[0mpickle\u001b[0m\u001b[1;33m\u001b[0m\u001b[0m\n\u001b[0;32m      3\u001b[0m \u001b[0mfilename\u001b[0m \u001b[1;33m=\u001b[0m \u001b[1;34m''\u001b[0m \u001b[1;31m# enter your pickle file name containing the model\u001b[0m\u001b[1;33m\u001b[0m\u001b[0m\n\u001b[1;32m----> 4\u001b[1;33m \u001b[1;32mwith\u001b[0m \u001b[0mopen\u001b[0m\u001b[1;33m(\u001b[0m\u001b[0mfilename\u001b[0m\u001b[1;33m,\u001b[0m\u001b[1;34m'rb'\u001b[0m\u001b[1;33m)\u001b[0m \u001b[1;32mas\u001b[0m \u001b[0mf\u001b[0m\u001b[1;33m:\u001b[0m\u001b[1;33m\u001b[0m\u001b[0m\n\u001b[0m\u001b[0;32m      5\u001b[0m     \u001b[0mmodel\u001b[0m \u001b[1;33m=\u001b[0m \u001b[0mpickle\u001b[0m\u001b[1;33m.\u001b[0m\u001b[0mload\u001b[0m\u001b[1;33m(\u001b[0m\u001b[0mf\u001b[0m\u001b[1;33m)\u001b[0m\u001b[1;33m\u001b[0m\u001b[0m\n",
      "\u001b[1;31mFileNotFoundError\u001b[0m: [Errno 2] No such file or directory: ''"
     ]
    }
   ],
   "source": [
    "# write a code to load your trained model from a pickle object\n",
    "import pickle\n",
    "filename = '' # enter your pickle file name containing the model\n",
    "with open(filename,'rb') as f:\n",
    "    model = pickle.load(f)\n"
   ]
  },
  {
   "cell_type": "code",
   "execution_count": null,
   "metadata": {},
   "outputs": [],
   "source": [
    "# write a code to read an excel file\n",
    "import pandas as pd\n",
    "num_test = 9\n",
    "filename = 'temp_' \n",
    "filekey = [] # instructors will key in this\n",
    "dataframe = {} # this is to store the data for different temperature, the keys are in filekey\n",
    "for idx in range(num_test):\n",
    "    dataframe[filekey[idx]] = pd.read_excel(filename+filekey[idx]+'.xlsx')\n"
   ]
  },
  {
   "cell_type": "code",
   "execution_count": null,
   "metadata": {},
   "outputs": [],
   "source": [
    "# write a code to prepare the data for predicting\n",
    "def preprocess(df):\n",
    "    # use this function to extract the features from the data frame\n",
    "    \n",
    "    pass\n",
    "\n",
    "data_test = {}\n",
    "for key in filekey:\n",
    "    data_test[key]=preprocess(dataframe[key])"
   ]
  },
  {
   "cell_type": "code",
   "execution_count": null,
   "metadata": {},
   "outputs": [],
   "source": [
    "# write a code to predict the final temperature\n",
    "# store the predicted temperature in a variable called \"predicted\"\n",
    "# predicted is a dictionary where the keys are listed in filekey\n",
    "\n",
    "predicted = {}\n",
    "for key in filekey:\n",
    "    predicted[key]=model.predict(data_test[key])"
   ]
  },
  {
   "cell_type": "code",
   "execution_count": null,
   "metadata": {},
   "outputs": [],
   "source": [
    "# checking accuracy\n",
    "\n",
    "# first instructor will load the actual temp from a pickle object\n",
    "import pickle\n",
    "error_d = {}\n",
    "accuracy_percent_d = {}\n",
    "\n",
    "for test in range(num_test):\n",
    "    filename = 'data_'+filekey[test]+'.pickle'\n",
    "    with open(filename,'rb') as f:\n",
    "        final_temp, worst_temp = pickle.load(f)\n",
    "\n",
    "    # then calculate the error\n",
    "    error_final = abs(final_temp-predicted[filekey[test]])\n",
    "    accuracy_final_percent = 100-error_final/final_temp*100\n",
    "    error_worst = abs(worst_temp-predicted[filekey[test]])\n",
    "    accuracy_worst_percent = 100-error_worst/worst_temp*100\n",
    "    \n",
    "    error_d[filekey[test]] = (error_final, error_worst)\n",
    "    accuracy_percent_d[filekey[test]] = (accuracy_final_percent, accuracy_worst_percent)\n",
    "\n",
    "    # displaying the error\n",
    "    print('===================================')\n",
    "    print('Testing: {}'.format(filekey[test]))\n",
    "    print('Predicted Temp: {:.2f}'.format(predicted[filekey[test]]))\n",
    "    print('Final Sensor Temp: {:.2f}, Alcohol Temp:{:.2f}'.format(final_temp, worst_temp))\n",
    "    print('Error w.r.t Final Sensor Temp: {:.2f} deg, {:.2f}% accuracy'.format(error_final, accuracy_final_percent))\n",
    "    print('Error w.r.t Alcohol Temp: {:.2f} deg, {:.2f}% accuracy'.format(error_worst, accuracy_worst_percent))\n",
    "    \n",
    "avg_final = sum([ final for final, worst in accuracy_percent_d.values()])/len(error_d.values())\n",
    "avg_worst = sum([ worst for final, worst in accuracy_percent_d.values()])/len(error_d.values())\n",
    "print('==============================')\n",
    "print('Average accuracy for final sensor temp: {:.2f}'.format(avg_final))\n",
    "print('AVerage accuracy for alcohol temp: {:.2f}'.format(avg_worst))\n"
   ]
  }
 ],
 "metadata": {
  "kernelspec": {
   "display_name": "Python 3",
   "language": "python",
   "name": "python3"
  },
  "language_info": {
   "codemirror_mode": {
    "name": "ipython",
    "version": 3
   },
   "file_extension": ".py",
   "mimetype": "text/x-python",
   "name": "python",
   "nbconvert_exporter": "python",
   "pygments_lexer": "ipython3",
   "version": "3.6.4"
  }
 },
 "nbformat": 4,
 "nbformat_minor": 2
}
